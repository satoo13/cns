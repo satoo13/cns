{
 "cells": [
  {
   "cell_type": "markdown",
   "id": "9c5eff4e",
   "metadata": {},
   "source": [
    "## GRID SOFTWARE v6.0\n",
    "- Some Useful Functions\n",
    "- Communication Module \n",
    "- Tracking Module\n",
    "- Navigation Algorithm\n",
    "- Main Function\n",
    "\n",
    "*STATUS* : Runnning\n",
    "\n",
    "*PROBLEMS TO SOLVE* :\n",
    "1. Time delay between command and execution ; preventing overshoot\n",
    "2. Extending the code for entire arena\n",
    "3. Getting an estimate of angular velocity and turn proportional to the angle\n",
    "4. Reducing the frequent turning of the bot\n",
    "5. Using Cam Caliberation to determine Marker Pose (Optional)\n",
    "6. Implement Reverse ( difficult)\n",
    "7. Check for input video feed speed\n"
   ]
  },
  {
   "cell_type": "markdown",
   "id": "b23aa9e5",
   "metadata": {},
   "source": [
    "## Some useful Functions"
   ]
  },
  {
   "cell_type": "code",
   "execution_count": 1,
   "id": "66745fb7",
   "metadata": {},
   "outputs": [],
   "source": [
    "import cv2\n",
    "from cv2 import aruco\n",
    "import numpy as np\n",
    "import math \n",
    "import time\n",
    "import socket\n",
    "import os\n",
    "import glob\n",
    "import shutil\n",
    "from os.path import isfile, join\n",
    "import datetime"
   ]
  },
  {
   "cell_type": "code",
   "execution_count": 2,
   "id": "5bcca449",
   "metadata": {},
   "outputs": [],
   "source": [
    "size = 0.127\n",
    "bot_ids = [22, 1, 9, 22]  # Give the aruco code of the bot\n",
    "\n",
    "def distCalc(r1, r2):\n",
    "    x1, y1 = r1\n",
    "    x2, y2 = r2 \n",
    "    \n",
    "    return math.dist((x1,y1), (x2,y2))\n",
    "\n",
    "def centreCalc(r1, r2):\n",
    "    return (int((r1[0]+r2[0])/2), int((r1[1]+r2[1])/2))\n",
    "\n",
    "def angleCalc(r1, r2):\n",
    "    x1, y1 = r1\n",
    "    x2, y2 = r2\n",
    "    \n",
    "    inner_prod = x1*x2 + y1*y2\n",
    "    len1 = math.hypot(x1, y1)\n",
    "    len2 = math.hypot(x2, y2)\n",
    "    \n",
    "    angle = math.acos(inner_prod/(len1*len2))\n",
    "    \n",
    "    if (x1*y2 - x2*y1) < 0:\n",
    "        angle = -angle\n",
    "    \n",
    "    return angle"
   ]
  },
  {
   "cell_type": "markdown",
   "id": "1095f5cc",
   "metadata": {},
   "source": [
    "## Establishing Server Connection"
   ]
  },
  {
   "cell_type": "code",
   "execution_count": 3,
   "id": "2d55f064",
   "metadata": {},
   "outputs": [
    {
     "name": "stdout",
     "output_type": "stream",
     "text": [
      "192.168.239.1\n"
     ]
    }
   ],
   "source": [
    "hostname = socket.gethostname()\n",
    "my_ip = socket.gethostbyname(hostname)\n",
    "print(my_ip) #Give this ID in the ESP32 sketch\n",
    "\n",
    "def startServer(port):\n",
    "    global serversocket\n",
    "    serversocket = socket.socket()\n",
    "    host = '0.0.0.0'\n",
    "   \n",
    "    try:\n",
    "        serversocket.bind((host, port))\n",
    "    except socket.error as e:\n",
    "        print(str(e))\n",
    "    \n",
    "    print(\"Waiting for connection\")\n",
    "    serversocket.listen(5)\n",
    "\n",
    "    global client, addr\n",
    "    client, addr = serversocket.accept()\n",
    "    print(\"Connection made with \" + str(client))\n",
    "\n",
    "def closeServer():\n",
    "    client.close()\n",
    "    serversocket.close()\n",
    "    \n",
    "def sendCommand(command, t=0):\n",
    "    client.sendto(command.encode('UTF-8'), addr)\n",
    "    time.sleep(t)"
   ]
  },
  {
   "cell_type": "markdown",
   "id": "67c7f314",
   "metadata": {},
   "source": [
    "## Bot Tracker"
   ]
  },
  {
   "cell_type": "code",
   "execution_count": 4,
   "id": "7cafb647",
   "metadata": {},
   "outputs": [],
   "source": [
    "def arucoDetector(img) :\n",
    "    imgGray = cv2.cvtColor(img, cv2.COLOR_BGR2GRAY)\n",
    "    key = getattr(aruco, f'DICT_4X4_250')\n",
    "    arucoDict = aruco.Dictionary_get(key)\n",
    "    arucoParam = aruco.DetectorParameters_create()\n",
    "\n",
    "    bbox, ids, rejected = aruco.detectMarkers(imgGray, arucoDict, parameters=arucoParam)\n",
    "    \n",
    "    img = aruco.drawDetectedMarkers(img, bbox)\n",
    "    \n",
    "    return img, bbox, ids"
   ]
  },
  {
   "cell_type": "markdown",
   "id": "c85950c6",
   "metadata": {},
   "source": [
    "## Navigation Algorithm"
   ]
  },
  {
   "cell_type": "code",
   "execution_count": 5,
   "id": "ef25f0cb",
   "metadata": {},
   "outputs": [],
   "source": [
    "def arucoOrient(img, bbox, ids, bot, dest = 0) :\n",
    "    bot_flag = 0\n",
    "    dest_flag = 0\n",
    "    for i in range(len(ids)):\n",
    "        if ids[i]==dest:\n",
    "            dest_coords = centreCalc(bbox[i][0][0],bbox[i][0][2])\n",
    "            dest_flag = 1\n",
    "        if ids[i]==bot_ids[bot]:\n",
    "            bot_coords = centreCalc(bbox[i][0][0], bbox[i][0][2])\n",
    "            bot_front = centreCalc(bbox[i][0][0], bbox[i][0][1])\n",
    "            bot_rear = centreCalc(bbox[i][0][2], bbox[i][0][3])\n",
    "            bot_flag = 1\n",
    "\n",
    "\n",
    "    img = cv2.arrowedLine(img, bot_rear, bot_front, (0,0,255), 2)\n",
    "    img = cv2.arrowedLine(img, bot_coords, dest_coords, (0,255,0), 2)\n",
    "    angle = angleCalc(np.subtract(np.array(bot_front), np.array(bot_rear)),np.subtract(np.array(dest_coords), np.array(bot_coords)))\n",
    "    distance = distCalc(bot_coords, dest_coords)\n",
    "    return img, bot_coords, dest_coords, distance, angle"
   ]
  },
  {
   "cell_type": "code",
   "execution_count": 6,
   "id": "366941e1",
   "metadata": {},
   "outputs": [],
   "source": [
    "def commandfunc(distance, angle, r_thr = 50, theta_thr = 0.3):\n",
    "   \n",
    "    command = '0'\n",
    "    flag = 0\n",
    "    \n",
    "    if abs(angle) > theta_thr :\n",
    "        if angle>theta_thr :\n",
    "            command = ('5')\n",
    "        else:\n",
    "            command = ('7')\n",
    "            \n",
    "    elif distance < r_thr :\n",
    "        command = ('0')\n",
    "        flag=1\n",
    "    else:\n",
    "        command = ('1')\n",
    "         \n",
    "  \n",
    "    return command, flag"
   ]
  },
  {
   "cell_type": "markdown",
   "id": "befb0d0e",
   "metadata": {},
   "source": [
    "## Save the video file"
   ]
  },
  {
   "cell_type": "code",
   "execution_count": 7,
   "id": "86fd0802",
   "metadata": {},
   "outputs": [],
   "source": [
    "def convert_frames_to_video(pathIn,pathOut,fps):\n",
    "    frame_array = []\n",
    "    files = [f for f in os.listdir(pathIn) if isfile(join(pathIn, f))]\n",
    "\n",
    "    #for sorting the file names properly\n",
    "    files = sorted(files, key=lambda x: int(x.split('.')[1]))\n",
    "\n",
    "    for i in range(len(files)):\n",
    "        filename=pathIn + files[i]\n",
    "        #reading each files\n",
    "        img = cv2.imread(filename)\n",
    "        height, width, layers = img.shape\n",
    "        size = (width,height)\n",
    "        #print(filename)\n",
    "        #inserting the frames into an image array\n",
    "        frame_array.append(img)\n",
    "\n",
    "    out = cv2.VideoWriter(pathOut,cv2.VideoWriter_fourcc(*'DIVX'), fps, size)\n",
    "\n",
    "    for i in range(len(frame_array)):\n",
    "        # writing to a image array\n",
    "        out.write(frame_array[i])\n",
    "    out.release()\n",
    "    shutil.rmtree('./data')"
   ]
  },
  {
   "cell_type": "markdown",
   "id": "509d7f24",
   "metadata": {},
   "source": [
    "## Sample Command"
   ]
  },
  {
   "cell_type": "code",
   "execution_count": 8,
   "id": "27b090f4",
   "metadata": {},
   "outputs": [
    {
     "data": {
      "text/plain": [
       "'    \\nstartServer()\\nsampleCommand()\\ncloseServer()\\n'"
      ]
     },
     "execution_count": 8,
     "metadata": {},
     "output_type": "execute_result"
    }
   ],
   "source": [
    "def sampleCommand():\n",
    "    sendCommand('0', 0)\n",
    "    sendCommand('1', 0)\n",
    "    sendCommand('0', 0)\n",
    "'''    \n",
    "startServer()\n",
    "sampleCommand()\n",
    "closeServer()\n",
    "'''\n",
    "#startServer(8093)\n",
    "#for i in range(0,6):\n",
    "   # sendCommand('10')\n"
   ]
  },
  {
   "cell_type": "markdown",
   "id": "35f7db43",
   "metadata": {},
   "source": [
    "## Main Function"
   ]
  },
  {
   "cell_type": "code",
   "execution_count": null,
   "id": "220e8f75",
   "metadata": {},
   "outputs": [],
   "source": [
    "if __name__ == '__main__':\n",
    "\n",
    "    p = 60\n",
    "    cap = cv2.VideoCapture(1)\n",
    "    if cap is not None :\n",
    "        print(\"GoingGood\")\n",
    "    dest = 0\n",
    "    command = '0'\n",
    "    angle = 0\n",
    "    flag = 0\n",
    "    k = 0\n",
    "    i = 0\n",
    "    bot = 0\n",
    "    no_bots = 2\n",
    "    path = [[23,24,23,25],[24,23,25,23],[7,8,7,6],[11,12,11,10]]\n",
    "    flip = [25, 4, 8, 12]\n",
    "    \n",
    "    startServer(8093)\n",
    "    \n",
    "    try :\n",
    "        os.mkdir('./data')\n",
    "    except :\n",
    "        shutil.rmtree('./data')\n",
    "        os.mkdir('./data')\n",
    "\n",
    "    try :\n",
    "        os.mkdir('./TestingVideos')\n",
    "    except :\n",
    "        pass\n",
    "        \n",
    "    start = time.time()\n",
    "    \n",
    "    while True :\n",
    "        success, frame = cap.read()\n",
    "\n",
    "        if frame is not None :\n",
    "            \n",
    "            frame, bbox, ids = arucoDetector(frame)\n",
    "            #print(ids)\n",
    "            if ids is not None:\n",
    "                if bot_ids[bot] in ids and path[bot][i] in ids :\n",
    "                    if flag==0:\n",
    "                        \n",
    "                        frame, bot_coords, dest_coords, distance, angle = arucoOrient(frame, bbox, ids,bot, path[bot][i])\n",
    "                        command, flag = commandfunc(distance, angle)\n",
    "                        sendCommand(command, bot)\n",
    "                        frame = cv2.putText(frame, \"Command : \" + str(command),(50,50), cv2.FONT_HERSHEY_SIMPLEX, 1, (0,0,255), 2 )\n",
    "                        frame = cv2.putText(frame, \"Distance : \" + str(distance),(50,75), cv2.FONT_HERSHEY_SIMPLEX, 1, (0,0,255), 2 )\n",
    "                        frame = cv2.putText(frame, \"Angle : \" + str(angle),(50,100), cv2.FONT_HERSHEY_SIMPLEX, 1, (0,0,255), 2 ) \n",
    "                        \n",
    "                    if flag==1:\n",
    "                        flag = 0\n",
    "                        frame = cv2.putText(frame, \"Next to Go \" + str(path[bot][i]),(50,100), cv2.FONT_HERSHEY_SIMPLEX, 1, (0,0,255), 2 )  \n",
    "\n",
    "                        if path[bot][i] in flip:\n",
    "                            print(\"Flip Now\")\n",
    "                            frame = cv2.putText(frame, \"Flipping Happening \" + str(path[bot][i]),(50,100), cv2.FONT_HERSHEY_SIMPLEX, 1, (0,0,255), 2 )  \n",
    "                            \n",
    "                        if i<3:\n",
    "                            i+=1\n",
    "                        elif bot<no_bots:\n",
    "                            bot+=1\n",
    "                            i=0\n",
    "                            port+=1\n",
    "                            \n",
    "                            closeServer()\n",
    "                            startServer(port)\n",
    "                            print(\"Closing and Startin the port number\")\n",
    "                            print(port)\n",
    "                        else:\n",
    "                            break\n",
    "                                           \n",
    "            else:\n",
    "                frame = cv2.putText(frame, \"No Aruco Detected\", (50,50), cv2.FONT_HERSHEY_SIMPLEX, 1, (0,0,255), 2)\n",
    "          \n",
    "            cv2.namedWindow(\"Live Tracking\", cv2.WINDOW_NORMAL)\n",
    "            cv2.resizeWindow(\"Live Tracking\",int(frame.shape[1]*p/100),int(frame.shape[0]*p/100))\n",
    "            cv2.imshow(\"Live Tracking\", frame)\n",
    "            \n",
    "            cv2.imwrite('./data/frames.'+str(k)+'.png',frame)\n",
    "            k+=1\n",
    "            \n",
    "        else :\n",
    "            print(\"Error in reading frame\")\n",
    "\n",
    "        q = cv2.waitKey(1)\n",
    "        if q == ord(\"q\"):\n",
    "            break\n",
    "\n",
    "end = time.time()\n",
    "laptime = end - start\n",
    "print(laptime)\n",
    "frame = cv2.putText(frame, \"LAPTIME :\" + str(laptime), (150,150), cv2.FONT_HERSHEY_SIMPLEX, 1, (0,0,255), 2)\n",
    "cv2.imwrite('./data/frames.'+str(k)+'.png',frame)\n",
    "k+=1\n",
    "cv2.destroyAllWindows()\n",
    "closeServer()\n",
    "\n",
    "ct = datetime.datetime.today()\n",
    "ct1 = str(ct).split()\n",
    "ct = ct1[1].split('.')[0].split(':')\n",
    "convert_frames_to_video('./data/', './TestingVideos/' +str(ct1[0])+'-'+str(ct[0])+'-'+str(ct[1])+'-'+str(ct[2])+'.mp4', 30.0)"
   ]
  },
  {
   "cell_type": "code",
   "execution_count": null,
   "id": "03132d6e",
   "metadata": {},
   "outputs": [
    {
     "name": "stdout",
     "output_type": "stream",
     "text": [
      "Waiting for connection\n"
     ]
    }
   ],
   "source": [
    "startServer(8093)\n",
    "sendCommand('9')\n",
    "closeServer()"
   ]
  }
 ],
 "metadata": {
  "kernelspec": {
   "display_name": "Python 3",
   "language": "python",
   "name": "python3"
  },
  "language_info": {
   "codemirror_mode": {
    "name": "ipython",
    "version": 3
   },
   "file_extension": ".py",
   "mimetype": "text/x-python",
   "name": "python",
   "nbconvert_exporter": "python",
   "pygments_lexer": "ipython3",
   "version": "3.8.8"
  }
 },
 "nbformat": 4,
 "nbformat_minor": 5
}